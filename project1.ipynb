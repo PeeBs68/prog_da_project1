{
 "cells": [
  {
   "cell_type": "markdown",
   "metadata": {},
   "source": [
    "### Notebook for project1 for programming for Data Analysis"
   ]
  },
  {
   "cell_type": "markdown",
   "metadata": {},
   "source": [
    "Requirements\n",
    "\n",
    "• Choose a real-world phenomenon that can be measured and for which you could collect at least one-hundred data points across at least four different variables.   \n",
    "• Investigate the types of variables involved, their likely distributions, and their relationships with each other.   \n",
    "• Synthesise/simulate a data set as closely matching their properties as possible.   \n",
    "• Detail your research and implement the simulation in a Jupyter notebook – the data set itself can simply be displayed in an output cell within the notebook.\n"
   ]
  }
 ],
 "metadata": {
  "language_info": {
   "name": "python"
  }
 },
 "nbformat": 4,
 "nbformat_minor": 2
}
