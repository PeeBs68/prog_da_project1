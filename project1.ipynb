{
 "cells": [
  {
   "cell_type": "markdown",
   "metadata": {},
   "source": [
    "### Notebook for project1 for programming for Data Analysis"
   ]
  },
  {
   "cell_type": "markdown",
   "metadata": {},
   "source": [
    "### Add a TOC here..."
   ]
  },
  {
   "cell_type": "markdown",
   "metadata": {},
   "source": [
    "## Purpose\n",
    "\n",
    "The purpose of this notebook is to:   \n",
    "\n",
    "• Choose a real-world phenomenon that can be measured and for which you could collect at least one-hundred data points across at least four different variables.   \n",
    "\n",
    "• Investigate the types of variables involved, their likely distributions, and their relationships with each other.  \n",
    " \n",
    "• Synthesise/simulate a data set as closely matching their properties as possible.   \n",
    "\n",
    "• Detail your research and implement the simulation in a Jupyter notebook – the data set itself can simply be displayed in an output cell within the notebook.\n"
   ]
  },
  {
   "cell_type": "markdown",
   "metadata": {},
   "source": [
    "## Background\n",
    "\n",
    "The phenonom I have chosen is....and why...\n",
    "\n",
    "Data released by the CSO (https://www.cso.ie/en/releasesandpublications/ep/p-heo/highereducationoutcomes-graduationyears2010-2019/backgroundstatistics/) shows that in 2019 there were over 42,000 new college graduates in Ireland. \n",
    "The numbers of new college graduates in Ireland has been on the increase for a number of years now with Ireland having a higher than the EU average of people with 3rd level education hitting a peak of 61% of 25-34 year olds having a 3rd level education on 2020 (https://www.cso.ie/en/csolatestnews/pressreleases/2021pressreleases/pressstatementeducationalattainmentthematicreport2021/). \n",
    "A report by Trinity News in 2022 (https://trinitynews.ie/2022/10/ireland-ranked-third-among-oecd-countries-for-rate-of-third-level-education/) shows that Ireland was ranked 3rd amongst the 38 OECD countries for 3rd level attainment overall. And that 63% of those in the 18-22 year old category were in 3rd level education compared to the EU average of 59%.\n",
    "\n",
    "Of these, data from HEA (https://hea.ie/statistics/graduate-outcomes-data-and-reports/graduate-outcomes-2021/) shows that over three quarters ended up in employment with (6?) months with approx. 20% going on to furth study.\n",
    "\n",
    "Of those that were in employment, 91% were working in Ireland with the breakdown of:   \n",
    "43% working in Dublin (Dublin region)   \n",
    "15% working in Cork (South West Region)   \n",
    "7% working in Galway (Mid West Region)   \n",
    "35% split across the remaining 5 regions (Mid East, South East, West, Border, Midlands).\n",
    "\n",
    "The data clearly shows that more and more young people are attending and graduating from 3rd level education. An article by Forbes (https://www.forbes.com/advisor/student-loans/why-should-you-go-to-college/) indicates that the primary reason for going to college is to earn more money with college graduates out earning those who finished education at secondary level by as much as almost 50% annually.\n",
    "\n",
    "This project will focus only on those who graduated with a level 8 Hons degree and fall into the category of new/young graduate. These ranged across a number of NFQ levels from Level 6 through to Level 10. Of these, Level 8 Hons degrees were by far the most popular with over 28,000 (xx%). (https://www.cso.ie/en/releasesandpublications/ep/p-heo/highereducationoutcomes-graduationyears2010-2019/backgroundstatistics/)"
   ]
  },
  {
   "cell_type": "markdown",
   "metadata": {},
   "source": [
    "According to research by the HEA $^3$ a number of factors can influence a graduate starting salary such as subject/area of study and grade. A study by gradireland $^4$ also suggests that area of study is very important but that location/region also has an impact"
   ]
  },
  {
   "cell_type": "markdown",
   "metadata": {},
   "source": [
    "To summarise, the four variables we will be researching and simulate a data set for are as follows:\n",
    "\n",
    "Graduate Salary   \n",
    "Area of Study   \n",
    "Award Level   \n",
    "Location   \n",
    "Gender (maybe)"
   ]
  },
  {
   "cell_type": "markdown",
   "metadata": {},
   "source": [
    "### Graduate Salary\n",
    "\n",
    "According to research published by the HEA $^1$, starting graduate salaries in Ireland differ significantly and can range from the late 20s to late 40s with the average coming in around 37,104. This \n",
    "\n",
    "More resent research by the Irish Independent $^2$ show the average salary for new graduates is now 38,044.\n",
    "\n",
    "\n",
    "From: https://www.irishtimes.com/ireland/education/2022/11/23/college-graduates-gain-employment-in-record-numbers/\n",
    "Average earnings for all graduates were just over €38,000, with sharp differences across individual areas of study. The highest earners were ICT or tech graduates (€45,197), followed by engineering, manufacturing and construction (€42,761), health and welfare (€38,728).\n",
    "\n",
    "By contrast, arts and humanities graduates earned the least (€29,770), followed by agriculture, forestry, fisheries and veterinary (€32,548) and social sciences, journalism and information (€35,846).\n",
    "\n",
    "Use the above to create a histogram if not able to find one...\n"
   ]
  },
  {
   "cell_type": "markdown",
   "metadata": {},
   "source": [
    "### Location\n",
    "\n",
    "To see how Location impacts on graduate salaries, data from the HEA $^1$, which has broken the country down into 8 different regions, suggests that graduates employed in Dublin generally earn the highest salary while graduates in the border counties earn the least.\n",
    "\n",
    "Country Average | 37,104 | |\n",
    "| --- | --- | --- |\n",
    "| Dublin | 38297 | +1.03% |\n",
    "| Mid-East | 36475 | -xx% |\n",
    "| South-East | 36204 | -xx% |\n",
    "| South-West | 37055 | -xx% |\n",
    "| Mid-West| 36665 | -xx% |\n",
    "| West | 34890 | -xx% |\n",
    "| Border | 33018 | -xx% |\n",
    "| Midlands | 36413 | -xx% |\n",
    "\n",
    "https://hea.ie/statistics/graduate-outcomes-data-and-reports/graduate-outcomes-2020/earnings-analysis/   \n",
    "$^2$ https://www.independent.ie/irish-news/\n",
    "\n",
    "\n",
    "Some stuff here also $^2$\n",
    "https://www.independent.ie/irish-news/surge-in-graduate-employment-as-four-in-five-walk-into-a-job-with-average-salary-of-38044/42166132.html\n",
    "\n"
   ]
  },
  {
   "cell_type": "markdown",
   "metadata": {},
   "source": [
    "### Area of Study \n",
    "\n",
    "To see how Area of Study affects salaries, data from gov.ie $^5$ ...\n",
    "https://data.gov.ie/dataset/heo13-graduate-earnings   \n"
   ]
  },
  {
   "cell_type": "markdown",
   "metadata": {},
   "source": [
    "### Grade\n",
    "\n",
    "To see how Grade affects salaries, data from gov.ie $^5$ ...\n",
    "https://data.gov.ie/dataset/heo13-graduate-earnings   \n",
    "\n",
    "From https://hea.ie/statistics/data-for-download-and-visualisations/key-facts-figures/ 2022\n",
    "First Class = 24.4%\n",
    "2.1 = 50.7%\n",
    "2.2 and below = 24.9%\n",
    "\n"
   ]
  },
  {
   "cell_type": "markdown",
   "metadata": {},
   "source": [
    "## Gender\n",
    "\n",
    "Maybe use Gender..."
   ]
  },
  {
   "cell_type": "code",
   "execution_count": 1,
   "metadata": {},
   "outputs": [],
   "source": [
    "# Add code here to simulate the data..."
   ]
  },
  {
   "cell_type": "markdown",
   "metadata": {},
   "source": [
    "# Results\n",
    "\n",
    "Give overview of results/how to read them etc..."
   ]
  },
  {
   "cell_type": "markdown",
   "metadata": {},
   "source": [
    "# Summary\n",
    "\n",
    "Add a summary of the notebook/wrap up"
   ]
  },
  {
   "cell_type": "markdown",
   "metadata": {},
   "source": [
    "### References\n",
    "\n",
    "$^1$ https://hea.ie/statistics/graduate-outcomes-data-and-reports/graduate-outcomes-2020/earnings-analysis/   \n",
    "$^2$ https://www.independent.ie/irish-news/surge-in-graduate-employment-as-four-in-five-walk-into-a-job-with-average-salary-of-38044/42166132.html   \n",
    "$^3$ https://hea.ie/assets/uploads/2021/09/Higher-Education-Institutions-Earnings-Report-September-2021.pdf   \n",
    "$^4$ https://gradireland.com/careers-advice/job-offers-and-working-life/salaries-and-benefits-new-graduates   \n",
    "$^5$ https://data.gov.ie/dataset/heo13-graduate-earnings   \n",
    "\n",
    "\n",
    "\n"
   ]
  },
  {
   "cell_type": "code",
   "execution_count": null,
   "metadata": {},
   "outputs": [],
   "source": []
  },
  {
   "cell_type": "code",
   "execution_count": null,
   "metadata": {},
   "outputs": [],
   "source": []
  },
  {
   "cell_type": "code",
   "execution_count": null,
   "metadata": {},
   "outputs": [],
   "source": []
  }
 ],
 "metadata": {
  "kernelspec": {
   "display_name": "base",
   "language": "python",
   "name": "python3"
  },
  "language_info": {
   "codemirror_mode": {
    "name": "ipython",
    "version": 3
   },
   "file_extension": ".py",
   "mimetype": "text/x-python",
   "name": "python",
   "nbconvert_exporter": "python",
   "pygments_lexer": "ipython3",
   "version": "3.11.4"
  }
 },
 "nbformat": 4,
 "nbformat_minor": 2
}
