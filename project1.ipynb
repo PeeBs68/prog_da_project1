{
 "cells": [
  {
   "cell_type": "markdown",
   "metadata": {},
   "source": [
    "### Notebook for project1 for programming for Data Analysis"
   ]
  },
  {
   "cell_type": "markdown",
   "metadata": {},
   "source": [
    "# Table of Contents\n",
    "\n",
    "1. [Purpose](#Purpose)\n",
    "2. [Background](#Background)\n",
    "    1. [Graduate Salary](#Graduate_Salary)\n",
    "    2. [Location](#Location)\n",
    "    3. [Grade](#Grade)\n",
    "    4. [Area of Study](#Area_of_Study)\n",
    "3. [Simulation](#Simulation)\n",
    "4. [Results](#Results)\n",
    "5. [Summary](#Summary)\n",
    "6. [References](#References)"
   ]
  },
  {
   "cell_type": "code",
   "execution_count": null,
   "metadata": {},
   "outputs": [],
   "source": []
  },
  {
   "cell_type": "markdown",
   "metadata": {},
   "source": [
    "# Purpose\n",
    "\n",
    "The purpose of this notebook is to:   \n",
    "\n",
    "• Choose a real-world phenomenon that can be measured and for which you could collect at least one-hundred data points across at least four different variables.   \n",
    "\n",
    "• Investigate the types of variables involved, their likely distributions, and their relationships with each other.  \n",
    " \n",
    "• Synthesise/simulate a data set as closely matching their properties as possible.   \n",
    "\n",
    "• Detail your research and implement the simulation in a Jupyter notebook – the data set itself can simply be displayed in an output cell within the notebook.\n"
   ]
  },
  {
   "cell_type": "markdown",
   "metadata": {},
   "source": [
    "# Background\n",
    "\n",
    "The phenonom I have chosen is new gratuate salaries in Ireland. I chose this subject because...\n",
    "The expected results of this project will be to simulate a data set of graduate salaries based on a number of contributing factors as detailed below. \n",
    "\n",
    "Data released by the CSO $^1$ shows that in 2019 there were over 42,000 new college graduates in Ireland. \n",
    "The numbers of new college graduates in Ireland has been on the increase for a number of years now with Ireland having a higher than the EU average of people with 3rd level education hitting a peak of 61% of 25-34 year olds having a 3rd level education on 2020 $^2$. \n",
    "A report by Trinity News in 2022 $^3$ shows that Ireland was ranked 3rd amongst the 38 OECD countries for 3rd level attainment overall. And that 63% of those in the 18-22 year old category were in 3rd level education compared to the EU average of 59%.\n",
    "\n",
    "Of these, data from HEA $^4$ shows that over three quarters ended up in employment within six-nine months with approx. 20% going on to further study. These ranged across a number of NFQ levels from Level 6 through to Level 10. Of these, Level 8 Hons degrees were by far the most popular with almost 50% according to data from the CSO $^1$.\n",
    "\n",
    "Of those that were in employment, 91% were working in Ireland with the breakdown of:   \n",
    "43% working in Dublin (Dublin region)   \n",
    "15% working in Cork (South West Region)   \n",
    "7% working in Galway (Mid West Region)   \n",
    "35% split across the remaining 5 regions (Mid East, South East, West, Border, Midlands).\n",
    "\n",
    "The data clearly shows that more and more young people are attending and graduating from 3rd level education. An article by Forbes $^5$ indicates that the primary reason for going to college is to earn more money with college graduates out earning those who finished education at secondary level by as much as almost 50% annually.\n",
    "\n",
    "This project will focus only on those who graduated with a level 8 Hons degree and who fall into the category of new/young graduate. "
   ]
  },
  {
   "cell_type": "markdown",
   "metadata": {},
   "source": [
    "According to research by the HEA $^6$ a number of factors can influence a graduate starting salary such as subject/area of study and grade. A study by gradireland $^7$ also suggests that area of study is very important but that location/region also has an impact\n",
    "\n",
    "(Need to flush out this section)"
   ]
  },
  {
   "cell_type": "markdown",
   "metadata": {},
   "source": [
    "Based on my research above, I have identified salary as being the most important variable for my project. And through my analysis, it seems that grade achieved, course/area of study and work location are the most important factors affecting the salary.\n",
    "\n",
    "(If need - add in gender also)\n",
    "\n",
    "Graduate Salary   \n",
    "Area of Study   \n",
    "Award Level   \n",
    "Location   \n",
    "Gender (maybe)"
   ]
  },
  {
   "cell_type": "markdown",
   "metadata": {},
   "source": [
    "### Graduate_Salary\n",
    "\n",
    "There are numerous articles and reports published every year on graduate salaries.\n",
    "According to research published by the HEA $^8$ starting graduate salaries in Ireland differ significantly and can range from approx. 30,000 to 45,000 with the average coming in around 37,104. More recent research by the Irish Independent $^9$ show the average salary for new graduates is now 38,044. An article by The Irish Times $^{10}$ suggests that the average earnings for all graduates were just over €38,000. \n",
    "Graduate salaries have increased steadily over the last 10 years with research published by the CSO $^{11}$ showing a yearly increase generally in line with inflation on average.\n",
    "\n",
    "Salary is a numeric variable which is defined as quantitative as it represents an amount (in this case the amount is euros). Generally salary is considered a continuous variable particularly if we are considering just whole euro values.\n",
    "\n",
    "Taking the values from the HEA $^8$ as being the most accurate we can work out the following statistics for the salary variable:   \n",
    "Mean - 35567   \n",
    "Median - 36493   \n",
    "Standard Deviation - 3462   \n",
    "Distribution (normal?)   \n",
    "Given we only have 10 values, the standard deviation may not mean much but we could assume normal distribution given the information we have.\n",
    "\n",
    "HEA $^8$ Data - Mean Salaries by course of study\n",
    "29851 \n",
    "32203\n",
    "32377\n",
    "33353\n",
    "36225\n",
    "36761\n",
    "36949\n",
    "37996\n",
    "39635\n",
    "40324 \n"
   ]
  },
  {
   "cell_type": "markdown",
   "metadata": {},
   "source": [
    "### Location\n",
    "\n",
    "For location we are referring to the location of where the graduate is employed post-graduation and not the location of the university they graduated from.\n",
    "\n",
    "According to the HEA $^6$ a number of factors can influence the starting salary of a graduate and note in particular the relationship between salary and location of employment. A study by gradireland $^7$ also claims the importance of location/region as being a factor influencing salary.\n",
    "\n",
    "The HEA $^{8}$ breaks down the country into 8 geographic locations for the purpose of their statistics and suggests that graduates employed in Dublin generally earn the highest average salaries while graduates in the border counties earn the lowest.\n",
    "\n",
    "Based on the country average being 35,567 I have compiled the following table showing the % difference between each region and the average salary using the data from the HEA $^{8}$:\n",
    "\n",
    "| Region | Average Salary | % +/- |\n",
    "| --- | --- | --- |\n",
    "| Dublin | 38297 | +7.68% |\n",
    "| South-West | 37055 | +4.18% |\n",
    "| Mid-West| 36665 | +3.09% |\n",
    "| Mid-East | 36475 | +2.55% |\n",
    "| Midlands | 36413 | +2.38% |\n",
    "| South-East | 36204 | +1.79% |\n",
    "| West | 34890 | -1.90% |\n",
    "| Border | 33018 | -7.17% |\n",
    "\n",
    "\n",
    "In terms of the number of graduates working in each location, data from the HEA $^{12}$ shows that by far the total number of graduates end up working in Dublin after leaving college at almost 40%. Next largest is the South-West region with 16% and propping up the table is the Midlands region with 4%\n",
    "\n",
    "| Country Average | % of total |\n",
    "| --- | --- |\n",
    "| Dublin | 40% |\n",
    "| South-West | 16% |\n",
    "| West | 10% |\n",
    "| Mid-West| 10% |\n",
    "| Mid-East | 8% |\n",
    "| South-East | 7% |\n",
    "| Border | 5% |\n",
    "| Midlands | 4% |"
   ]
  },
  {
   "cell_type": "markdown",
   "metadata": {},
   "source": [
    "### Grade\n",
    "\n",
    "The grade a student receives is one of the most important factors influencing their starting salary according to the HEA $^6$.\n",
    "Statistics from the CSO $^1$ show the breakdown of grades received. Historically, a H21 grade has been the most popular and the percentage receiving a H2 has been increasing over the last number of years. From 46% 10 years ago to just over 50%. H1s has also seen a percentage increase while H22 and H3s are reducing. \n",
    "\n",
    "The following chart breaks down the % of grades received across all graduates for each award level:\n",
    "\n",
    "Grade | % |\n",
    "| --- | --- |\n",
    "| H1 | 16.55 |\n",
    "| H21 | 50.43 |\n",
    "| H22| 27.21 |\n",
    "| H3 | 5.81 |\n",
    "\n",
    "To see how the grade achieved impacts on a graduates salary we can look at data from gov.ie $^1$ and statistics released by the HEA $^{13}$. From these we can see that the average salary is affected by the grade received leaving college as follows:\n",
    "\n",
    "Grade | % +/- |\n",
    "| --- | --- |\n",
    "| H1 | +3% |\n",
    "| H21 | -9% |\n",
    "| H22| -15% |\n",
    "| H3 | -24% |\n",
    "\n",
    "Grade is a qualitative variable and is considered a categorical variable as it can take only one a small and fixed number of possibilities. And as it is possible to rank them in a meaningful order of H1 to H3 it is an ordinal variable.   \n",
    "Mean   \n",
    "Median   \n",
    "StDev   \n",
    "Distribution   \n"
   ]
  },
  {
   "cell_type": "markdown",
   "metadata": {},
   "source": [
    "### Area_of_Study \n",
    "\n",
    "Of all the graduates, almost a quarter (24.53%) had studied a course in the Business/Admin/law sector which was by far the highest number. Next came Health & Welfare with just over 18%, followed by Engineering at just under 11%. At the bottom of the scale came Agriculture with 1.5% $^{14}$.\n",
    "\n",
    "| Study Area | % |\n",
    "| --- | --- |\n",
    "| Business | 24.53% |\n",
    "| Health and Welfare| 18.26% |\n",
    "| Engineering| 10.82% |\n",
    "| Arts | 10.64% |\n",
    "| Natural Science | 8.58% |\n",
    "| Education | 7.85% |\n",
    "| Social Science | 6.63% |\n",
    "| ICT | 6.51% |\n",
    "| Services | 3.84% |\n",
    "| Agriculture | 1.51% |\n",
    "| Other | 0.83% |\n",
    "\n",
    "\n",
    "A study released by the Irish Times $^{10}$ highlights the differences across individual areas of study. noting that the highest earners were ICT graduates with an average salary of €45,197, followed by engineering with €42,761 and health and welfare (€38,728).\n",
    "\n",
    "In contrast, the same report notes arts and humanities graduates earned the least with €29,770, followed by agriculture, forestry, fisheries and veterinary (€32,548) and social sciences, journalism and information (€35,846).\n",
    "\n",
    "Based on the country average being 35,567 I have compiled the following table with data from the HEA $^8$ showing the % difference between each area of study and the average salary:\n",
    "\n",
    "| Study Area | % +/- |\n",
    "| --- | --- |\n",
    "| Business | +2.45% |\n",
    "| Health and Welfare| +3.45% |\n",
    "| Engineering| +14.83% |\n",
    "| Arts | -21.41% |\n",
    "| Natural Science | +8.56% |\n",
    "| Education | +14.19% |\n",
    "| Social Science | -4.35% |\n",
    "| ICT | +19.67% |\n",
    "| Services | -4.96% |\n",
    "| Agriculture | -9.45% |\n",
    "\n",
    "To see how Area of Study affects salaries, data from gov.ie $^5$ ...\n",
    "https://data.gov.ie/dataset/heo13-graduate-earnings   \n"
   ]
  },
  {
   "cell_type": "markdown",
   "metadata": {},
   "source": [
    "## Gender (if needed)\n",
    "\n",
    "A report from the CSO (https://www.cso.ie/en/releasesandpublications/ep/p-heo/highereducationoutcomes-graduationyears2010-2019/backgroundstatistics/) shows that females outnumber males 55 – 45%\n",
    "\n",
    "The HEA report (https://hea.ie/statistics/graduate-outcomes-data-and-reports/graduate-outcomes-2020/earnings-analysis/) suggests that the gender pay gap for new graduates in like-for-like circumstances is approx. 1500 in favour of males.\n"
   ]
  },
  {
   "cell_type": "markdown",
   "metadata": {},
   "source": [
    "### Add the sample data set I created here\n",
    "\n",
    "Sample Data set..."
   ]
  },
  {
   "cell_type": "markdown",
   "metadata": {},
   "source": [
    "# Simulation\n",
    "\n",
    "Generate simulation based on the above"
   ]
  },
  {
   "cell_type": "markdown",
   "metadata": {},
   "source": [
    "1. Create dataframe\n",
    "2. Add first variable (region)\n",
    "3. Add second variable (grade)\n",
    "4. Add third variable (course/area of study)\n",
    "5. calculate salary"
   ]
  },
  {
   "cell_type": "code",
   "execution_count": 22,
   "metadata": {},
   "outputs": [
    {
     "data": {
      "text/html": [
       "<div>\n",
       "<style scoped>\n",
       "    .dataframe tbody tr th:only-of-type {\n",
       "        vertical-align: middle;\n",
       "    }\n",
       "\n",
       "    .dataframe tbody tr th {\n",
       "        vertical-align: top;\n",
       "    }\n",
       "\n",
       "    .dataframe thead th {\n",
       "        text-align: right;\n",
       "    }\n",
       "</style>\n",
       "<table border=\"1\" class=\"dataframe\">\n",
       "  <thead>\n",
       "    <tr style=\"text-align: right;\">\n",
       "      <th></th>\n",
       "      <th>location</th>\n",
       "      <th>grade</th>\n",
       "      <th>salary</th>\n",
       "      <th>course</th>\n",
       "    </tr>\n",
       "  </thead>\n",
       "  <tbody>\n",
       "    <tr>\n",
       "      <th>131</th>\n",
       "      <td>Midlands</td>\n",
       "      <td>H21</td>\n",
       "      <td>38156</td>\n",
       "      <td>Nats</td>\n",
       "    </tr>\n",
       "    <tr>\n",
       "      <th>978</th>\n",
       "      <td>Dublin</td>\n",
       "      <td>H21</td>\n",
       "      <td>33018</td>\n",
       "      <td>Serv</td>\n",
       "    </tr>\n",
       "    <tr>\n",
       "      <th>266</th>\n",
       "      <td>Dublin</td>\n",
       "      <td>H21</td>\n",
       "      <td>31549</td>\n",
       "      <td>Arts</td>\n",
       "    </tr>\n",
       "    <tr>\n",
       "      <th>389</th>\n",
       "      <td>Dublin</td>\n",
       "      <td>H22</td>\n",
       "      <td>36228</td>\n",
       "      <td>Bus</td>\n",
       "    </tr>\n",
       "    <tr>\n",
       "      <th>953</th>\n",
       "      <td>Mid-West</td>\n",
       "      <td>H21</td>\n",
       "      <td>33682</td>\n",
       "      <td>Serv</td>\n",
       "    </tr>\n",
       "    <tr>\n",
       "      <th>...</th>\n",
       "      <td>...</td>\n",
       "      <td>...</td>\n",
       "      <td>...</td>\n",
       "      <td>...</td>\n",
       "    </tr>\n",
       "    <tr>\n",
       "      <th>840</th>\n",
       "      <td>Mid-West</td>\n",
       "      <td>H3</td>\n",
       "      <td>36787</td>\n",
       "      <td>HW</td>\n",
       "    </tr>\n",
       "    <tr>\n",
       "      <th>625</th>\n",
       "      <td>Dublin</td>\n",
       "      <td>H22</td>\n",
       "      <td>40612</td>\n",
       "      <td>Ed</td>\n",
       "    </tr>\n",
       "    <tr>\n",
       "      <th>630</th>\n",
       "      <td>Dublin</td>\n",
       "      <td>H22</td>\n",
       "      <td>40594</td>\n",
       "      <td>Ed</td>\n",
       "    </tr>\n",
       "    <tr>\n",
       "      <th>654</th>\n",
       "      <td>Mid-West</td>\n",
       "      <td>H22</td>\n",
       "      <td>40489</td>\n",
       "      <td>Ed</td>\n",
       "    </tr>\n",
       "    <tr>\n",
       "      <th>652</th>\n",
       "      <td>Dublin</td>\n",
       "      <td>H21</td>\n",
       "      <td>40528</td>\n",
       "      <td>Ed</td>\n",
       "    </tr>\n",
       "  </tbody>\n",
       "</table>\n",
       "<p>1000 rows × 4 columns</p>\n",
       "</div>"
      ],
      "text/plain": [
       "     location grade  salary course\n",
       "131  Midlands   H21   38156   Nats\n",
       "978    Dublin   H21   33018   Serv\n",
       "266    Dublin   H21   31549   Arts\n",
       "389    Dublin   H22   36228    Bus\n",
       "953  Mid-West   H21   33682   Serv\n",
       "..        ...   ...     ...    ...\n",
       "840  Mid-West    H3   36787     HW\n",
       "625    Dublin   H22   40612     Ed\n",
       "630    Dublin   H22   40594     Ed\n",
       "654  Mid-West   H22   40489     Ed\n",
       "652    Dublin   H21   40528     Ed\n",
       "\n",
       "[1000 rows x 4 columns]"
      ]
     },
     "execution_count": 22,
     "metadata": {},
     "output_type": "execute_result"
    }
   ],
   "source": [
    "# Import modules\n",
    "import pandas as pd\n",
    "import numpy as np\n",
    "import random\n",
    "import matplotlib.pyplot as plt\n",
    "\n",
    "course_list = ['ICT', 'Bus', 'Eng', 'HW', 'Arts', 'Nats', 'Ed', 'Socs', 'Serv', 'Agr' ]\n",
    "\n",
    "# Temp method for mow - replace with a function maybe...\n",
    "\n",
    "for course in course_list:\n",
    "\n",
    "    if course == 'ICT':\n",
    "        df_ict = pd.DataFrame()\n",
    "        df_ict['location'] = np.random.choice(['Dublin', 'South-West', 'Mid-West','Mid-East', 'Midlands', 'South-East', 'West', 'Border'], 100, p=[0.40, 0.16, 0.10, 0.08, 0.04, 0.07, 0.10, 0.05])\n",
    "        df_ict['grade'] = np.random.choice(['H1', 'H21', 'H22','H3'], 100, p=[0.17, 0.50, 0.27, 0.06])\n",
    "        rand_sal_ict = [random.randint(39635, 42562) for i in range(100)]\n",
    "        df_ict['salary'] = rand_sal_ict\n",
    "        df_ict['course'] = course\n",
    "\n",
    "    elif course == 'Eng':\n",
    "        df_eng = pd.DataFrame()\n",
    "        df_eng['location'] = np.random.choice(['Dublin', 'South-West', 'Mid-West','Mid-East', 'Midlands', 'South-East', 'West', 'Border'], 100, p=[0.40, 0.16, 0.10, 0.08, 0.04, 0.07, 0.10, 0.05])\n",
    "        df_eng['grade'] = np.random.choice(['H1', 'H21', 'H22','H3'], 100, p=[0.17, 0.50, 0.27, 0.06])\n",
    "        rand_sal_eng = [random.randint(37996, 40845) for i in range(100)]\n",
    "        df_eng['salary'] = rand_sal_eng\n",
    "        df_eng['course'] = course\n",
    "\n",
    "    elif course == 'Ed':\n",
    "        df_ed = pd.DataFrame()\n",
    "        df_ed['location'] = np.random.choice(['Dublin', 'South-West', 'Mid-West','Mid-East', 'Midlands', 'South-East', 'West', 'Border'], 100, p=[0.40, 0.16, 0.10, 0.08, 0.04, 0.07, 0.10, 0.05])\n",
    "        df_ed['grade'] = np.random.choice(['H1', 'H21', 'H22','H3'], 100, p=[0.17, 0.50, 0.27, 0.06])\n",
    "        rand_sal_ed = [random.randint(40324, 40615) for i in range(100)]\n",
    "        df_ed['salary'] = rand_sal_ed\n",
    "        df_ed['course'] = course\n",
    "\n",
    "    elif course == 'Agr':\n",
    "        df_agr = pd.DataFrame()\n",
    "        df_agr['location'] = np.random.choice(['Dublin', 'South-West', 'Mid-West','Mid-East', 'Midlands', 'South-East', 'West', 'Border'], 100, p=[0.40, 0.16, 0.10, 0.08, 0.04, 0.07, 0.10, 0.05])\n",
    "        df_agr['grade'] = np.random.choice(['H1', 'H21', 'H22','H3'], 100, p=[0.17, 0.50, 0.27, 0.06])\n",
    "        rand_sal_agr = [random.randint(32203, 36925) for i in range(100)]\n",
    "        df_agr['salary'] = rand_sal_agr\n",
    "        df_agr['course'] = course\n",
    "\n",
    "    elif course == 'Serv':\n",
    "        df_serv = pd.DataFrame()\n",
    "        df_serv['location'] = np.random.choice(['Dublin', 'South-West', 'Mid-West','Mid-East', 'Midlands', 'South-East', 'West', 'Border'], 100, p=[0.40, 0.16, 0.10, 0.08, 0.04, 0.07, 0.10, 0.05])\n",
    "        df_serv['grade'] = np.random.choice(['H1', 'H21', 'H22','H3'], 100, p=[0.17, 0.50, 0.27, 0.06])\n",
    "        rand_sal_serv = [random.randint(32377, 33811) for i in range(100)]\n",
    "        df_serv['salary'] = rand_sal_serv\n",
    "        df_serv['course'] = course\n",
    "\n",
    "    elif course == 'HW':\n",
    "        df_hw = pd.DataFrame()\n",
    "        df_hw['location'] = np.random.choice(['Dublin', 'South-West', 'Mid-West','Mid-East', 'Midlands', 'South-East', 'West', 'Border'], 100, p=[0.40, 0.16, 0.10, 0.08, 0.04, 0.07, 0.10, 0.05])\n",
    "        df_hw['grade'] = np.random.choice(['H1', 'H21', 'H22','H3'], 100, p=[0.17, 0.50, 0.27, 0.06])\n",
    "        rand_sal_hw = [random.randint(36761, 36797) for i in range(100)]\n",
    "        df_hw['salary'] = rand_sal_hw\n",
    "        df_hw['course'] = course\n",
    "\n",
    "    elif course == 'Bus':\n",
    "        df_bus = pd.DataFrame()\n",
    "        df_bus['location'] = np.random.choice(['Dublin', 'South-West', 'Mid-West','Mid-East', 'Midlands', 'South-East', 'West', 'Border'], 100, p=[0.40, 0.16, 0.10, 0.08, 0.04, 0.07, 0.10, 0.05])\n",
    "        df_bus['grade'] = np.random.choice(['H1', 'H21', 'H22','H3'], 100, p=[0.17, 0.50, 0.27, 0.06])\n",
    "        rand_sal_bus = [random.randint(36225, 36441) for i in range(100)]\n",
    "        df_bus['salary'] = rand_sal_bus\n",
    "        df_bus['course'] = course\n",
    "\n",
    "    elif course == 'Arts':\n",
    "        df_arts = pd.DataFrame()\n",
    "        df_arts['location'] = np.random.choice(['Dublin', 'South-West', 'Mid-West','Mid-East', 'Midlands', 'South-East', 'West', 'Border'], 100, p=[0.40, 0.16, 0.10, 0.08, 0.04, 0.07, 0.10, 0.05])\n",
    "        df_arts['grade'] = np.random.choice(['H1', 'H21', 'H22','H3'], 100, p=[0.17, 0.50, 0.27, 0.06])\n",
    "        rand_sal_arts = [random.randint(27951, 32078) for i in range(100)]\n",
    "        df_arts['salary'] = rand_sal_arts\n",
    "        df_arts['course'] = course\n",
    "\n",
    "    elif course == 'Nats':\n",
    "        df_nats = pd.DataFrame()\n",
    "        df_nats['location'] = np.random.choice(['Dublin', 'South-West', 'Mid-West','Mid-East', 'Midlands', 'South-East', 'West', 'Border'], 100, p=[0.40, 0.16, 0.10, 0.08, 0.04, 0.07, 0.10, 0.05])\n",
    "        df_nats['grade'] = np.random.choice(['H1', 'H21', 'H22','H3'], 100, p=[0.17, 0.50, 0.27, 0.06])\n",
    "        rand_sal_nats = [random.randint(36949, 38615) for i in range(100)]\n",
    "        df_nats['salary'] = rand_sal_nats\n",
    "        df_nats['course'] = course\n",
    "\n",
    "    elif course == 'Socs':\n",
    "        df_socs = pd.DataFrame()\n",
    "        df_socs['location'] = np.random.choice(['Dublin', 'South-West', 'Mid-West','Mid-East', 'Midlands', 'South-East', 'West', 'Border'], 100, p=[0.40, 0.16, 0.10, 0.08, 0.04, 0.07, 0.10, 0.05])\n",
    "        df_socs['grade'] = np.random.choice(['H1', 'H21', 'H22','H3'], 100, p=[0.17, 0.50, 0.27, 0.06])\n",
    "        #rand_sal_socs = [random.randint(33353, 34021) for i in range(100)]\n",
    "        rand_sal_socs = [random.randint(27951, 39635) for i in range(100)]\n",
    "        df_socs['salary'] = rand_sal_socs\n",
    "        df_socs['course'] = course\n",
    "\n",
    "final_df = pd.concat([df_socs, df_nats, df_arts, df_bus, df_ict, df_eng, df_ed, df_agr, df_hw, df_serv], ignore_index=True)\n",
    "\n",
    "final_df = final_df.sample(frac = 1) # mix up the data to give a better snapshot\n",
    "\n",
    "final_df"
   ]
  },
  {
   "cell_type": "code",
   "execution_count": 16,
   "metadata": {},
   "outputs": [
    {
     "data": {
      "text/html": [
       "<div>\n",
       "<style scoped>\n",
       "    .dataframe tbody tr th:only-of-type {\n",
       "        vertical-align: middle;\n",
       "    }\n",
       "\n",
       "    .dataframe tbody tr th {\n",
       "        vertical-align: top;\n",
       "    }\n",
       "\n",
       "    .dataframe thead th {\n",
       "        text-align: right;\n",
       "    }\n",
       "</style>\n",
       "<table border=\"1\" class=\"dataframe\">\n",
       "  <thead>\n",
       "    <tr style=\"text-align: right;\">\n",
       "      <th></th>\n",
       "      <th>location</th>\n",
       "      <th>grade</th>\n",
       "      <th>salary</th>\n",
       "      <th>course</th>\n",
       "    </tr>\n",
       "  </thead>\n",
       "  <tbody>\n",
       "    <tr>\n",
       "      <th>652</th>\n",
       "      <td>Dublin</td>\n",
       "      <td>H21</td>\n",
       "      <td>39765.814816</td>\n",
       "      <td>Ed</td>\n",
       "    </tr>\n",
       "    <tr>\n",
       "      <th>206</th>\n",
       "      <td>Dublin</td>\n",
       "      <td>H22</td>\n",
       "      <td>28736.130880</td>\n",
       "      <td>Arts</td>\n",
       "    </tr>\n",
       "    <tr>\n",
       "      <th>188</th>\n",
       "      <td>South-West</td>\n",
       "      <td>H1</td>\n",
       "      <td>40714.887922</td>\n",
       "      <td>Nats</td>\n",
       "    </tr>\n",
       "    <tr>\n",
       "      <th>432</th>\n",
       "      <td>South-East</td>\n",
       "      <td>H1</td>\n",
       "      <td>42885.267048</td>\n",
       "      <td>ICT</td>\n",
       "    </tr>\n",
       "    <tr>\n",
       "      <th>978</th>\n",
       "      <td>Mid-East</td>\n",
       "      <td>H21</td>\n",
       "      <td>31165.314180</td>\n",
       "      <td>Serv</td>\n",
       "    </tr>\n",
       "    <tr>\n",
       "      <th>...</th>\n",
       "      <td>...</td>\n",
       "      <td>...</td>\n",
       "      <td>...</td>\n",
       "      <td>...</td>\n",
       "    </tr>\n",
       "    <tr>\n",
       "      <th>540</th>\n",
       "      <td>South-East</td>\n",
       "      <td>H21</td>\n",
       "      <td>35820.521919</td>\n",
       "      <td>Eng</td>\n",
       "    </tr>\n",
       "    <tr>\n",
       "      <th>702</th>\n",
       "      <td>West</td>\n",
       "      <td>H21</td>\n",
       "      <td>29383.549650</td>\n",
       "      <td>Agr</td>\n",
       "    </tr>\n",
       "    <tr>\n",
       "      <th>48</th>\n",
       "      <td>South-West</td>\n",
       "      <td>H3</td>\n",
       "      <td>31350.053960</td>\n",
       "      <td>Socs</td>\n",
       "    </tr>\n",
       "    <tr>\n",
       "      <th>365</th>\n",
       "      <td>West</td>\n",
       "      <td>H21</td>\n",
       "      <td>32479.467930</td>\n",
       "      <td>Bus</td>\n",
       "    </tr>\n",
       "    <tr>\n",
       "      <th>703</th>\n",
       "      <td>South-West</td>\n",
       "      <td>H21</td>\n",
       "      <td>34017.499516</td>\n",
       "      <td>Agr</td>\n",
       "    </tr>\n",
       "  </tbody>\n",
       "</table>\n",
       "<p>1000 rows × 4 columns</p>\n",
       "</div>"
      ],
      "text/plain": [
       "       location grade        salary course\n",
       "652      Dublin   H21  39765.814816     Ed\n",
       "206      Dublin   H22  28736.130880   Arts\n",
       "188  South-West    H1  40714.887922   Nats\n",
       "432  South-East    H1  42885.267048    ICT\n",
       "978    Mid-East   H21  31165.314180   Serv\n",
       "..          ...   ...           ...    ...\n",
       "540  South-East   H21  35820.521919    Eng\n",
       "702        West   H21  29383.549650    Agr\n",
       "48   South-West    H3  31350.053960   Socs\n",
       "365        West   H21  32479.467930    Bus\n",
       "703  South-West   H21  34017.499516    Agr\n",
       "\n",
       "[1000 rows x 4 columns]"
      ]
     },
     "execution_count": 16,
     "metadata": {},
     "output_type": "execute_result"
    }
   ],
   "source": [
    "# Apply Grade Rates\n",
    "h1_rate = 1.03\n",
    "h21_rate = 0.91\n",
    "h22_rate = 0.85\n",
    "h3_rate = 0.76\n",
    "\n",
    "final_df['salary'] = (final_df['salary'] * h1_rate).where(final_df['grade'] == 'H1', final_df['salary'] * 1)\n",
    "final_df['salary'] = (final_df['salary'] * h21_rate).where(final_df['grade'] == 'H21', final_df['salary'] * 1)\n",
    "final_df['salary'] = (final_df['salary'] * h22_rate).where(final_df['grade'] == 'H22', final_df['salary'] * 1)\n",
    "final_df['salary'] = (final_df['salary'] * h3_rate).where(final_df['grade'] == 'H3', final_df['salary'] * 1)\n",
    "\n",
    "\n",
    "# Apply Location rates\n",
    "dublin_rate = 1.0768\n",
    "sw_rate = 1.0418\n",
    "mw_rate = 1.0309\n",
    "me_rate = 1.0255\n",
    "m_rate = 1.0238\n",
    "se_rate = 1.0179\n",
    "w_rate = 0.9810\n",
    "b_rate = 0.9283\n",
    "\n",
    "final_df['salary'] = (final_df['salary'] * dublin_rate).where(final_df['location'] == 'Dublin', final_df['salary'] * 1)\n",
    "final_df['salary'] = (final_df['salary'] * sw_rate).where(final_df['location'] == 'South-West', final_df['salary'] * 1)\n",
    "final_df['salary'] = (final_df['salary'] * mw_rate).where(final_df['location'] == 'Mid-West', final_df['salary'] * 1)\n",
    "final_df['salary'] = (final_df['salary'] * me_rate).where(final_df['location'] == 'Mid-East', final_df['salary'] * 1)\n",
    "final_df['salary'] = (final_df['salary'] * m_rate).where(final_df['location'] == 'Midlands', final_df['salary'] * 1)\n",
    "final_df['salary'] = (final_df['salary'] * se_rate).where(final_df['location'] == 'South-East', final_df['salary'] * 1)\n",
    "final_df['salary'] = (final_df['salary'] * w_rate).where(final_df['location'] == 'West', final_df['salary'] * 1)\n",
    "final_df['salary'] = (final_df['salary'] * b_rate).where(final_df['location'] == 'Border', final_df['salary'] * 1)\n",
    "\n",
    "\n",
    "'''\n",
    "# Apply area_of_study rates\n",
    "bus_rate = 1.0245\n",
    "hw_rate = 1.0345\n",
    "eng_rate = 1.148\n",
    "arts_rate = 0.7858\n",
    "ns_rate = 1.0856\n",
    "ed_rate = 1.1419\n",
    "socs_rate = 0.9565\n",
    "ict_rate = 1.1966\n",
    "serv_rate = 0.9596\n",
    "agr_rate = 0.9054\n",
    "\n",
    "\n",
    "final_df['salary'] = (final_df['salary'] * bus_rate).where(final_df['course'] == 'Bus', final_df['salary'] * 1)\n",
    "final_df['salary'] = (final_df['salary'] * hw_rate).where(final_df['course'] == 'HW', final_df['salary'] * 1)\n",
    "final_df['salary'] = (final_df['salary'] * eng_rate).where(final_df['course'] == 'Eng', final_df['salary'] * 1)\n",
    "final_df['salary'] = (final_df['salary'] * arts_rate).where(final_df['course'] == 'Arts', final_df['salary'] * 1)\n",
    "final_df['salary'] = (final_df['salary'] * ns_rate).where(final_df['course'] == 'Nats', final_df['salary'] * 1)\n",
    "final_df['salary'] = (final_df['salary'] * ed_rate).where(final_df['course'] == 'Ed', final_df['salary'] * 1)\n",
    "final_df['salary'] = (final_df['salary'] * socs_rate).where(final_df['course'] == 'Socs', final_df['salary'] * 1)\n",
    "final_df['salary'] = (final_df['salary'] * ict_rate).where(final_df['course'] == 'ICT', final_df['salary'] * 1)\n",
    "final_df['salary'] = (final_df['salary'] * serv_rate).where(final_df['course'] == 'Serv', final_df['salary'] * 1)\n",
    "final_df['salary'] = (final_df['salary'] * agr_rate).where(final_df['course'] == 'Agr', final_df['salary'] * 1)\n",
    "\n",
    "#final_df = final_df.round({'salary': 0})'''\n",
    "\n",
    "final_df"
   ]
  },
  {
   "cell_type": "markdown",
   "metadata": {},
   "source": [
    "# Results\n",
    "\n",
    "In this section we will look an an overview of our newly created data set, primarily using plots to fisualise the resulting data.\n",
    "\n",
    "Firstly we will plot a histogram of all the salary values. We can see that the data is still normally distributed "
   ]
  },
  {
   "cell_type": "code",
   "execution_count": 17,
   "metadata": {},
   "outputs": [
    {
     "data": {
      "image/png": "[encoded data removed]",
      "text/plain": [
       "<Figure size 640x480 with 1 Axes>"
      ]
     },
     "metadata": {},
     "output_type": "display_data"
    }
   ],
   "source": [
    "# Plot a histogram of salary\n",
    "\n",
    "salary_l = []\n",
    "for x in final_df['salary']:\n",
    "    salary_l.append(x)\n",
    "plt.title(\"Salary Distribution\")\n",
    "plt.xlabel(\"Salary\")\n",
    "plt.ylabel(\"Frequency\")\n",
    "plt.hist(salary_l, bins=10);\n",
    "#plt.show;"
   ]
  },
  {
   "cell_type": "markdown",
   "metadata": {},
   "source": [
    "Some stats on the overall salary data in the data set"
   ]
  },
  {
   "cell_type": "code",
   "execution_count": 18,
   "metadata": {},
   "outputs": [
    {
     "name": "stdout",
     "output_type": "stream",
     "text": [
      "Mean salary = 34102.595809217004\n",
      "Salary standard deviation = 4340.158035866615\n"
     ]
    }
   ],
   "source": [
    "print(f'Mean salary = {final_df.salary.mean()}')\n",
    "print(f'Salary standard deviation = {final_df.salary.std()}')"
   ]
  },
  {
   "cell_type": "markdown",
   "metadata": {},
   "source": [
    "Given that there are a number of variables affecting the salary in our data set we will now plot the average salary by grade, location of employment and area of study"
   ]
  },
  {
   "cell_type": "markdown",
   "metadata": {},
   "source": [
    "### Salary by Grade"
   ]
  },
  {
   "cell_type": "code",
   "execution_count": 19,
   "metadata": {},
   "outputs": [
    {
     "data": {
      "image/png": "[encoded data removed]",
      "text/plain": [
       "<Figure size 640x480 with 1 Axes>"
      ]
     },
     "metadata": {},
     "output_type": "display_data"
    }
   ],
   "source": [
    "# Plot of Average Salary by Grade\n",
    "\n",
    "final_df_by_means = final_df.groupby('grade')['salary'].mean()\n",
    "final_df_by_means.columns = ['Grade', 'Salary']\n",
    "final_df_by_means.plot(kind='bar');\n",
    "plt.title(\"Average salary by Grade Achieved\")\n",
    "plt.xlabel(\"Grade\")\n",
    "plt.ylabel(\"Salary\");"
   ]
  },
  {
   "cell_type": "markdown",
   "metadata": {},
   "source": [
    "We can clearly see that those who graduate with a H1 grade receive the highest salary, and as the grade lowers so does the salary..."
   ]
  },
  {
   "cell_type": "markdown",
   "metadata": {},
   "source": [
    "### Salary by Course/Area of Study"
   ]
  },
  {
   "cell_type": "code",
   "execution_count": 20,
   "metadata": {},
   "outputs": [
    {
     "data": {
      "image/png": "[encoded data removed]",
      "text/plain": [
       "<Figure size 640x480 with 1 Axes>"
      ]
     },
     "metadata": {},
     "output_type": "display_data"
    }
   ],
   "source": [
    "# Plot of Average Salary by Course/Area of Study\n",
    "\n",
    "final_df_by_means = final_df.groupby('course')['salary'].mean()\n",
    "final_df_by_means.columns = ['Course', 'Salary']\n",
    "final_df_by_means.plot(kind='bar');\n",
    "plt.title(\"Average salary by Course Studied\")\n",
    "plt.xlabel(\"Course\")\n",
    "plt.ylabel(\"Salary\");"
   ]
  },
  {
   "cell_type": "markdown",
   "metadata": {},
   "source": [
    "As can be seen from the graph, ICT, Engineering and Education graduates receive the highest average salary. While Arts graduates receive the lowest."
   ]
  },
  {
   "cell_type": "markdown",
   "metadata": {},
   "source": [
    "### Salary by Location of Employment"
   ]
  },
  {
   "cell_type": "code",
   "execution_count": 21,
   "metadata": {},
   "outputs": [
    {
     "data": {
      "image/png": "[encoded data removed]",
      "text/plain": [
       "<Figure size 640x480 with 1 Axes>"
      ]
     },
     "metadata": {},
     "output_type": "display_data"
    }
   ],
   "source": [
    "# Plot of Average Salary by Location of Employment\n",
    "\n",
    "final_df_by_means = final_df.groupby('location')['salary'].mean()\n",
    "final_df_by_means.columns = ['Location', 'Salary']\n",
    "final_df_by_means.plot(kind='bar');\n",
    "plt.title(\"Average salary by Employment Location\")\n",
    "plt.xlabel(\"Location\")\n",
    "plt.ylabel(\"Salary\");"
   ]
  },
  {
   "cell_type": "markdown",
   "metadata": {},
   "source": [
    "Graduates working in Dublin clearly receive on average a higher salary with the South-West being next highest. Graduates working in the Border counties receive the lowest average salary."
   ]
  },
  {
   "cell_type": "markdown",
   "metadata": {},
   "source": [
    "# Summary\n",
    "\n",
    "Add a summary of the notebook/wrap up"
   ]
  },
  {
   "cell_type": "markdown",
   "metadata": {},
   "source": [
    "# References\n",
    "\n",
    "$^1$ https://www.cso.ie/en/releasesandpublications/ep/p-heo/highereducationoutcomes-graduationyears2010-2019/backgroundstatistics/   \n",
    "$^2$ https://www.cso.ie/en/csolatestnews/pressreleases/2021pressreleases/pressstatementeducationalattainmentthematicreport2021/   \n",
    "$^3$ https://trinitynews.ie/2022/10/ireland-ranked-third-among-oecd-countries-for-rate-of-third-level-education/   \n",
    "$^4$ https://hea.ie/statistics/graduate-outcomes-data-and-reports/graduate-outcomes-2021/   \n",
    "$^5$ https://www.forbes.com/advisor/student-loans/why-should-you-go-to-college/   \n",
    "\n",
    "$^6$ https://hea.ie/assets/uploads/2021/09/Higher-Education-Institutions-Earnings-Report-September-2021.pdf   \n",
    "$^7$ https://gradireland.com/careers-advice/job-offers-and-working-life/salaries-and-benefits-new-graduates   \n",
    "$^8$ https://hea.ie/statistics/graduate-outcomes-data-and-reports/graduate-outcomes-2020/earnings-analysis/   \n",
    "$^9$ https://www.independent.ie/irish-news/surge-in-graduate-employment-as-four-in-five-walk-into-a-job-with-average-salary-of-38044/42166132.html   \n",
    "$^{10}$ https://www.irishtimes.com/ireland/education/2022/11/23/college-graduates-gain-employment-in-record-numbers/   \n",
    "$^{11}$ https://www.cso.ie/en/releasesandpublications/ep/p-heo/highereducationoutcomes-graduationyears2010-2019/whatdograduatesearn/         \n",
    "$^{12}$ https://hea.ie/statistics/graduate-outcomes-data-and-reports/graduate-outcomes-2020/undergraduate-honours-degree-graduates/     \n",
    "$^{13}$ https://data.gov.ie/dataset/heo13-graduate-earnings   \n",
    "$^{14}$ https://hea.ie/statistics/data-for-download-and-visualisations/key-facts-figures/   \n"
   ]
  }
 ],
 "metadata": {
  "kernelspec": {
   "display_name": "base",
   "language": "python",
   "name": "python3"
  },
  "language_info": {
   "codemirror_mode": {
    "name": "ipython",
    "version": 3
   },
   "file_extension": ".py",
   "mimetype": "text/x-python",
   "name": "python",
   "nbconvert_exporter": "python",
   "pygments_lexer": "ipython3",
   "version": "3.11.4"
  }
 },
 "nbformat": 4,
 "nbformat_minor": 2
}
