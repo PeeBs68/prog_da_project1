{
 "cells": [
  {
   "cell_type": "markdown",
   "metadata": {},
   "source": [
    "### Notebook for project1 for programming for Data Analysis"
   ]
  },
  {
   "cell_type": "markdown",
   "metadata": {},
   "source": [
    "### Add a TOC here..."
   ]
  },
  {
   "cell_type": "markdown",
   "metadata": {},
   "source": [
    "## Purpose\n",
    "\n",
    "The purpose of this notebook is to:   \n",
    "\n",
    "• Choose a real-world phenomenon that can be measured and for which you could collect at least one-hundred data points across at least four different variables.   \n",
    "\n",
    "• Investigate the types of variables involved, their likely distributions, and their relationships with each other.  \n",
    " \n",
    "• Synthesise/simulate a data set as closely matching their properties as possible.   \n",
    "\n",
    "• Detail your research and implement the simulation in a Jupyter notebook – the data set itself can simply be displayed in an output cell within the notebook.\n"
   ]
  },
  {
   "cell_type": "markdown",
   "metadata": {},
   "source": [
    "## Background\n",
    "\n",
    "The phenonom I have chosen is new gratuate salaries in Ireland. I chose this subject because...\n",
    "The expected results of this project will be to simulate a data set of graduate salaries based on a number of contributing factors as detailed below. \n",
    "\n",
    "Data released by the CSO (https://www.cso.ie/en/releasesandpublications/ep/p-heo/highereducationoutcomes-graduationyears2010-2019/backgroundstatistics/) shows that in 2019 there were over 42,000 new college graduates in Ireland. \n",
    "The numbers of new college graduates in Ireland has been on the increase for a number of years now with Ireland having a higher than the EU average of people with 3rd level education hitting a peak of 61% of 25-34 year olds having a 3rd level education on 2020 (https://www.cso.ie/en/csolatestnews/pressreleases/2021pressreleases/pressstatementeducationalattainmentthematicreport2021/). \n",
    "A report by Trinity News in 2022 (https://trinitynews.ie/2022/10/ireland-ranked-third-among-oecd-countries-for-rate-of-third-level-education/) shows that Ireland was ranked 3rd amongst the 38 OECD countries for 3rd level attainment overall. And that 63% of those in the 18-22 year old category were in 3rd level education compared to the EU average of 59%.\n",
    "\n",
    "Of these, data from HEA (https://hea.ie/statistics/graduate-outcomes-data-and-reports/graduate-outcomes-2021/) shows that over three quarters ended up in employment with (6?) months with approx. 20% going on to furth study.\n",
    "\n",
    "Of those that were in employment, 91% were working in Ireland with the breakdown of:   \n",
    "43% working in Dublin (Dublin region)   \n",
    "15% working in Cork (South West Region)   \n",
    "7% working in Galway (Mid West Region)   \n",
    "35% split across the remaining 5 regions (Mid East, South East, West, Border, Midlands).\n",
    "\n",
    "The data clearly shows that more and more young people are attending and graduating from 3rd level education. An article by Forbes (https://www.forbes.com/advisor/student-loans/why-should-you-go-to-college/) indicates that the primary reason for going to college is to earn more money with college graduates out earning those who finished education at secondary level by as much as almost 50% annually.\n",
    "\n",
    "This project will focus only on those who graduated with a level 8 Hons degree and fall into the category of new/young graduate. These ranged across a number of NFQ levels from Level 6 through to Level 10. Of these, Level 8 Hons degrees were by far the most popular with over 28,000 (xx%). (https://www.cso.ie/en/releasesandpublications/ep/p-heo/highereducationoutcomes-graduationyears2010-2019/backgroundstatistics/)"
   ]
  },
  {
   "cell_type": "markdown",
   "metadata": {},
   "source": [
    "According to research by the HEA $^3$ a number of factors can influence a graduate starting salary such as subject/area of study and grade. A study by gradireland $^4$ also suggests that area of study is very important but that location/region also has an impact"
   ]
  },
  {
   "cell_type": "markdown",
   "metadata": {},
   "source": [
    "To summarise, the four variables we will be researching and simulate a data set for are as follows:\n",
    "\n",
    "Graduate Salary   \n",
    "Area of Study   \n",
    "Award Level   \n",
    "Location   \n",
    "Gender (maybe)"
   ]
  },
  {
   "cell_type": "markdown",
   "metadata": {},
   "source": [
    "### Graduate Salary\n",
    "\n",
    "There are numerous articles and reports published every year on graduate salaries.\n",
    "According to research published by the HEA (https://hea.ie/statistics/graduate-outcomes-data-and-reports/graduate-outcomes-2020/earnings-analysis/) starting graduate salaries in Ireland differ significantly and can range from approx. 30,000 to 45,000 with the average coming in around 37,104. More recent research by the Irish Independent (https://www.independent.ie/irish-news/surge-in-graduate-employment-as-four-in-five-walk-into-a-job-with-average-salary-of-38044/42166132.html) show the average salary for new graduates is now 38,044. An article by The Irish Times (https://www.irishtimes.com/ireland/education/2022/11/23/college-graduates-gain-employment-in-record-numbers/) indicates that the average earnings for all graduates were just over €38,000. \n",
    "Graduate salaries have increased steadily over the last 10 years with research published by the CSO (https://www.cso.ie/en/releasesandpublications/ep/p-heo/highereducationoutcomes-graduationyears2010-2019/whatdograduatesearn/) showing a yearly increase generally in line with inflation on average.\n",
    "\n",
    "Salary is a numeric variable which is defined as quantitative as it represents an amount (in this case the amount is euros). Generally salary is considered a continuous variable particularly if we are considering just whole euro values.\n",
    "\n",
    "Taking the values from (https://hea.ie/statistics/graduate-outcomes-data-and-reports/graduate-outcomes-2020/earnings-analysis/) as being the most accurate we come up with the following summary:\n",
    "Mean – 37104\n",
    "Median\n",
    "Standard Deviation\n",
    "Distribution\n",
    "Given we only have 3 values, the standard deviation and median values would not mean much but we could assume normal distribution given the information we have.\n",
    "\n"
   ]
  },
  {
   "cell_type": "markdown",
   "metadata": {},
   "source": [
    "### Location\n",
    "\n",
    "For location we are referring to the location of where the graduate is employed post-graduation and not the location of the university they graduated from.\n",
    "\n",
    "According to the HEA (https://hea.ie/assets/uploads/2021/09/Higher-Education-Institutions-Earnings-Report-September-2021.pdf) a number of factors can influence the starting salary of a graduate and note in particular the relationship between salary and location of employment. A study by gradireland (https://gradireland.com/careers-advice/job-offers-and-working-life/salaries-and-benefits-new-graduates) also claims the importance of location/region as being a factor influencing salary.\n",
    "\n",
    "The HSE (https://hea.ie/statistics/graduate-outcomes-data-and-reports/graduate-outcomes-2020/earnings-analysis/) breaks down the country into 8 geographic locations for the purpose of their statistics and suggests that graduates employed in Dublin generally earn the highest average salaries while graduates in the border counties earn the lowest.\n",
    "\n",
    "Based on the country average being 37,104 I have compiled the following table showing the % difference between each region and the average:\n",
    "\n",
    "| Region | Count | % +/-|\n",
    "| --- | --- | --- |\n",
    "| Dublin | 38297 | +1.03% |\n",
    "| South-West | 37055 | -99.87% |\n",
    "| Mid-West| 36665 | -98.82% |\n",
    "| Mid-East | 36475 | -98.3% |\n",
    "| Midlands | 36413 | -98.14% |\n",
    "| South-East | 36204 | -97.57% |\n",
    "| West | 34890 | -94.03% |\n",
    "| Border | 33018 | -88.99% |\n",
    "\n",
    "\n",
    "In terms of the number of graduates working in each location, data from the HSE shows that by far the total number of graduates end up working in Dublin after leaving college at xx%...the fewest work in ....\n",
    "\n",
    "| Country Average | % of total |\n",
    "| --- | --- |\n",
    "| Dublin | xxx |\n",
    "| South-West | xxx |\n",
    "| Mid-West| xxx |\n",
    "| Mid-East | xxx |\n",
    "| Midlands | xxx |\n",
    "| South-East | xxx |\n",
    "| West | xxx |\n",
    "| Border | xxx |"
   ]
  },
  {
   "cell_type": "markdown",
   "metadata": {},
   "source": [
    "### Grade\n",
    "\n",
    "The grade a student receives is one of the most important factors influencing their starting salary according to the HEA (https://hea.ie/assets/uploads/2021/09/Higher-Education-Institutions-Earnings-Report-September-2021.pdf).\n",
    "Statistics from the CSO (https://www.cso.ie/en/releasesandpublications/ep/p-heo/highereducationoutcomes-graduationyears2010-2019/backgroundstatistics/) show the breakdown of grades received. Historically, a H21 grade has been the most popular and the percentage receiving a H2 has been increasing over the last number of years. From 46% 10 years ago to just over 50%. H1s has also seen a percentage increase while H22 and H3s are reducing. \n",
    "\n",
    "The following chart breaks down the % of grades received across all graduates for each award level:\n",
    "\n",
    "Grade | % |\n",
    "| --- | --- |\n",
    "| H1 | 16.55 |\n",
    "| H21 | 50.43 |\n",
    "| H22| 27.21 |\n",
    "| H3 | 5.81 |\n",
    "\n",
    "Next Step: Figure out how grade impacts salary - use data from https://data.gov.ie/dataset/heo13-graduate-earnings   \n",
    "\n",
    "Other Details here\n",
    "From https://hea.ie/statistics/data-for-download-and-visualisations/key-facts-figures/ 2022\n",
    "\n",
    "Grade is a qualitative variable and is considered a categorical variable as it can take only one a small and fixed number of possibilities. And as it is possible to rank them in a meaningful order of H1 to H3 it is an ordinal variable.   \n",
    "Mean   \n",
    "Median   \n",
    "StDev   \n",
    "Distribution   \n"
   ]
  },
  {
   "cell_type": "markdown",
   "metadata": {},
   "source": [
    "### Area of Study \n",
    "\n",
    "To see how Area of Study affects salaries, data from gov.ie $^5$ ...\n",
    "https://data.gov.ie/dataset/heo13-graduate-earnings   \n"
   ]
  },
  {
   "cell_type": "markdown",
   "metadata": {},
   "source": [
    "## Gender\n",
    "\n",
    "Maybe use Gender..."
   ]
  },
  {
   "cell_type": "markdown",
   "metadata": {},
   "source": [
    "### Add the sample data set I created here\n",
    "\n",
    "Sample Data set..."
   ]
  },
  {
   "cell_type": "markdown",
   "metadata": {},
   "source": [
    "Generate simulation based on the above"
   ]
  },
  {
   "cell_type": "markdown",
   "metadata": {},
   "source": [
    "1. Create dataframe\n",
    "2. Add first variable (region)\n",
    "3. Add second variable (grade)\n",
    "4. Add third variable (course/area of study)\n",
    "5. calculate salary"
   ]
  },
  {
   "cell_type": "code",
   "execution_count": 8,
   "metadata": {},
   "outputs": [
    {
     "data": {
      "text/html": [
       "<div>\n",
       "<style scoped>\n",
       "    .dataframe tbody tr th:only-of-type {\n",
       "        vertical-align: middle;\n",
       "    }\n",
       "\n",
       "    .dataframe tbody tr th {\n",
       "        vertical-align: top;\n",
       "    }\n",
       "\n",
       "    .dataframe thead th {\n",
       "        text-align: right;\n",
       "    }\n",
       "</style>\n",
       "<table border=\"1\" class=\"dataframe\">\n",
       "  <thead>\n",
       "    <tr style=\"text-align: right;\">\n",
       "      <th></th>\n",
       "      <th>location</th>\n",
       "      <th>grade</th>\n",
       "      <th>course</th>\n",
       "    </tr>\n",
       "  </thead>\n",
       "  <tbody>\n",
       "    <tr>\n",
       "      <th>0</th>\n",
       "      <td>Dublin</td>\n",
       "      <td>H1</td>\n",
       "      <td>SocS</td>\n",
       "    </tr>\n",
       "    <tr>\n",
       "      <th>1</th>\n",
       "      <td>Dublin</td>\n",
       "      <td>H21</td>\n",
       "      <td>Bus</td>\n",
       "    </tr>\n",
       "    <tr>\n",
       "      <th>2</th>\n",
       "      <td>Dublin</td>\n",
       "      <td>H22</td>\n",
       "      <td>SocS</td>\n",
       "    </tr>\n",
       "    <tr>\n",
       "      <th>3</th>\n",
       "      <td>Dublin</td>\n",
       "      <td>H21</td>\n",
       "      <td>SocS</td>\n",
       "    </tr>\n",
       "    <tr>\n",
       "      <th>4</th>\n",
       "      <td>South-East</td>\n",
       "      <td>H21</td>\n",
       "      <td>Ed</td>\n",
       "    </tr>\n",
       "    <tr>\n",
       "      <th>...</th>\n",
       "      <td>...</td>\n",
       "      <td>...</td>\n",
       "      <td>...</td>\n",
       "    </tr>\n",
       "    <tr>\n",
       "      <th>95</th>\n",
       "      <td>Dublin</td>\n",
       "      <td>H22</td>\n",
       "      <td>Bus</td>\n",
       "    </tr>\n",
       "    <tr>\n",
       "      <th>96</th>\n",
       "      <td>South-East</td>\n",
       "      <td>H22</td>\n",
       "      <td>Eng</td>\n",
       "    </tr>\n",
       "    <tr>\n",
       "      <th>97</th>\n",
       "      <td>Dublin</td>\n",
       "      <td>H22</td>\n",
       "      <td>Bus</td>\n",
       "    </tr>\n",
       "    <tr>\n",
       "      <th>98</th>\n",
       "      <td>Mid-East</td>\n",
       "      <td>H21</td>\n",
       "      <td>NatS</td>\n",
       "    </tr>\n",
       "    <tr>\n",
       "      <th>99</th>\n",
       "      <td>Mid-East</td>\n",
       "      <td>H21</td>\n",
       "      <td>HW</td>\n",
       "    </tr>\n",
       "  </tbody>\n",
       "</table>\n",
       "<p>100 rows × 3 columns</p>\n",
       "</div>"
      ],
      "text/plain": [
       "      location grade course\n",
       "0       Dublin    H1   SocS\n",
       "1       Dublin   H21    Bus\n",
       "2       Dublin   H22   SocS\n",
       "3       Dublin   H21   SocS\n",
       "4   South-East   H21     Ed\n",
       "..         ...   ...    ...\n",
       "95      Dublin   H22    Bus\n",
       "96  South-East   H22    Eng\n",
       "97      Dublin   H22    Bus\n",
       "98    Mid-East   H21   NatS\n",
       "99    Mid-East   H21     HW\n",
       "\n",
       "[100 rows x 3 columns]"
      ]
     },
     "execution_count": 8,
     "metadata": {},
     "output_type": "execute_result"
    }
   ],
   "source": [
    "# Import modules\n",
    "\n",
    "import numpy as np\n",
    "import pandas as pd\n",
    "\n",
    "# Create dataframe\n",
    "df = pd.DataFrame()\n",
    "\n",
    "# Create list for Location and add to dataframe\n",
    "location_list = np.random.choice(['Dublin', 'South-West', 'Mid-West','Mid-East', 'Midlands', 'South-East', 'West', 'Border'], 100, p=[0.43, 0.15, 0.07, 0.07, 0.07, 0.07, 0.07, 0.07])\n",
    "\n",
    "df['location'] = location_list\n",
    "\n",
    "# Create list for Grade and add to dataframe\n",
    "grade_list = np.random.choice(['H1', 'H21', 'H22','H3'], 100, p=[0.17, 0.50, 0.27, 0.06])\n",
    "\n",
    "df['grade'] = grade_list\n",
    "\n",
    "# Create list for Course and add to dataframe\n",
    "course_list = np.random.choice(['Bus', 'HW', 'Eng','Arts','NatS','Ed', 'SocS', 'ICT','Serv','Agr','Oth'], 100, p=[0.24, 0.18, 0.11, 0.10, 0.09, 0.08, 0.07, 0.06, 0.04, 0.02, 0.01])\n",
    "\n",
    "df['course'] = course_list\n",
    "\n",
    "df\n",
    "\n",
    "# Now need to work out how to calculate salary based on course, grade and location!!!\n",
    "# # If course = 'ICT' and grade = 'H1' and location = 'Galway' then...\n",
    "# Or maybe, add random salary, then update up/down based on course/location/grade\n",
    "# Or maybe, add average salary, then update up/down based on course/location/grade\n",
    "# Maybe...add random distributed salaries by course, then adjust up/down based on grade and then location\n",
    "\n",
    "# OR maybe create individual dfs per course or per something else... \n",
    "\n",
    "# Could be lazy and just create a random salary based on the the high and low values we have!!!\n",
    "\n",
    "# Check this link\n",
    "# https://www.dataquest.io/blog/tutorial-add-column-pandas-dataframe-based-on-if-else-condition/"
   ]
  },
  {
   "cell_type": "markdown",
   "metadata": {},
   "source": [
    "# Results\n",
    "\n",
    "Give overview of results/how to read them etc..."
   ]
  },
  {
   "cell_type": "markdown",
   "metadata": {},
   "source": [
    "# Summary\n",
    "\n",
    "Add a summary of the notebook/wrap up"
   ]
  },
  {
   "cell_type": "markdown",
   "metadata": {},
   "source": [
    "### References\n",
    "\n",
    "$^1$ https://hea.ie/statistics/graduate-outcomes-data-and-reports/graduate-outcomes-2020/earnings-analysis/   \n",
    "$^2$ https://www.independent.ie/irish-news/surge-in-graduate-employment-as-four-in-five-walk-into-a-job-with-average-salary-of-38044/42166132.html   \n",
    "$^3$ https://hea.ie/assets/uploads/2021/09/Higher-Education-Institutions-Earnings-Report-September-2021.pdf   \n",
    "$^4$ https://gradireland.com/careers-advice/job-offers-and-working-life/salaries-and-benefits-new-graduates   \n",
    "$^5$ https://data.gov.ie/dataset/heo13-graduate-earnings   \n",
    "\n",
    "\n",
    "\n"
   ]
  },
  {
   "cell_type": "code",
   "execution_count": null,
   "metadata": {},
   "outputs": [],
   "source": []
  },
  {
   "cell_type": "code",
   "execution_count": null,
   "metadata": {},
   "outputs": [],
   "source": []
  },
  {
   "cell_type": "code",
   "execution_count": null,
   "metadata": {},
   "outputs": [],
   "source": []
  }
 ],
 "metadata": {
  "kernelspec": {
   "display_name": "base",
   "language": "python",
   "name": "python3"
  },
  "language_info": {
   "codemirror_mode": {
    "name": "ipython",
    "version": 3
   },
   "file_extension": ".py",
   "mimetype": "text/x-python",
   "name": "python",
   "nbconvert_exporter": "python",
   "pygments_lexer": "ipython3",
   "version": "3.11.4"
  }
 },
 "nbformat": 4,
 "nbformat_minor": 2
}
